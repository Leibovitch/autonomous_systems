{
 "cells": [
  {
   "cell_type": "code",
   "execution_count": 2,
   "metadata": {},
   "outputs": [],
   "source": [
    "!conda activate py38"
   ]
  },
  {
   "cell_type": "code",
   "execution_count": 3,
   "metadata": {},
   "outputs": [],
   "source": [
    "import os\n",
    "import navpy\n",
    "import numpy as np\n",
    "import pandas as pd\n",
    "import plotly.express as px\n",
    "from datetime import datetime\n",
    "import plotly.graph_objects as go"
   ]
  },
  {
   "cell_type": "code",
   "execution_count": 4,
   "metadata": {},
   "outputs": [
    {
     "data": {
      "text/html": [
       "<style>#notebook { padding-top:0px !important; } .container { width: 95% !important; } .end_space { min-height:0px !important; } </style>"
      ],
      "text/plain": [
       "<IPython.core.display.HTML object>"
      ]
     },
     "metadata": {},
     "output_type": "display_data"
    }
   ],
   "source": [
    "from IPython.core.display import display, HTML\n",
    "display(HTML(\"<style>\"\n",
    "    + \"#notebook { padding-top:0px !important; } \" \n",
    "    + \".container { width: 95% !important; } \"\n",
    "    + \".end_space { min-height:0px !important; } \"\n",
    "    + \"</style>\"))\n",
    "\n",
    "%matplotlib notebook"
   ]
  },
  {
   "cell_type": "code",
   "execution_count": 5,
   "metadata": {},
   "outputs": [],
   "source": [
    "velodyne_data_path = r'C:\\Users\\noyl\\workspace\\autonomous_systems\\proj1\\2011_09_26_drive_0106_sync\\2011_09_26\\2011_09_26_drive_0106_sync\\velodyne_points\\data'\n",
    "data_path = r'C:\\Users\\noyl\\workspace\\autonomous_systems\\proj1\\2011_09_26_drive_0106_sync\\2011_09_26\\2011_09_26_drive_0106_sync'"
   ]
  },
  {
   "cell_type": "code",
   "execution_count": 10,
   "metadata": {},
   "outputs": [],
   "source": [
    "def read_velodyne_points(path):\n",
    "    velodyne_data_filles = os.listdir(path)\n",
    "    data_points = []\n",
    "    for data_file in velodyne_data_filles:\n",
    "        f = open(path + '\\\\' + data_file, \"rb\")\n",
    "        data = np.fromfile(f, np.float32)\n",
    "        data.shape = (-1, 4)\n",
    "        data_points.append(data)\n",
    "#         data_points[data_file] = data\n",
    "        f.close()\n",
    "        \n",
    "    return data_points\n",
    "\n",
    "velo_points = read_velodyne_points(velodyne_data_path)"
   ]
  },
  {
   "cell_type": "code",
   "execution_count": null,
   "metadata": {},
   "outputs": [],
   "source": [
    "marker_data = go.Scatter3d(\n",
    "    x=np.ceil(xs / 0.2),\n",
    "    y=np.ceil(ys / 0.2), \n",
    "    z=np.ceil(zs / 0.2), \n",
    "    marker=go.scatter3d.Marker(size=3),\n",
    "    mode='markers'\n",
    ")\n",
    "fig=go.Figure(data=marker_data)\n",
    "\n",
    "fig.update_layout(\n",
    "    width=1800,\n",
    "    height=1400\n",
    ")\n",
    "fig.show()"
   ]
  },
  {
   "cell_type": "code",
   "execution_count": null,
   "metadata": {},
   "outputs": [],
   "source": [
    "xs, ys = reduce_to_2d(velo_points[150][:, 0:3].copy().T, min_height=0.3, col_hits=2, res=0.2)\n",
    "fig = px.scatter(x=xs, y=ys)\n",
    "fig.show()"
   ]
  },
  {
   "cell_type": "code",
   "execution_count": 340,
   "metadata": {},
   "outputs": [
    {
     "data": {
      "text/plain": [
       "array([76.4, 61. , 60. , ..., 17.4, 17.4, 59.8], dtype=float32)"
      ]
     },
     "execution_count": 340,
     "metadata": {},
     "output_type": "execute_result"
    }
   ],
   "source": [
    "np.array((data['velo_xs']))"
   ]
  },
  {
   "cell_type": "code",
   "execution_count": 111,
   "metadata": {},
   "outputs": [],
   "source": [
    "def read_velodyne_points(path):\n",
    "    velodyne_data_filles = os.listdir(path)\n",
    "    data_points = []\n",
    "    for data_file in velodyne_data_filles:\n",
    "        f = open(path + '\\\\' + data_file, \"rb\")\n",
    "        data = np.fromfile(f, np.float32)\n",
    "        data.shape = (-1, 4)\n",
    "        data_points.append(data)\n",
    "#         data_points[data_file] = data\n",
    "        f.close()\n",
    "        \n",
    "    return data_points\n",
    "\n",
    "def initialize(data_path):\n",
    "    oxt_data_keys = ['lat', 'lon', 'alt', 'roll', 'pitch', 'yaw', 'vn', 'vf', 'vl', 'vu', 'ax', 'ay', 'af', 'al', 'au', 'wx', 'wy', 'wz',\n",
    "                    'wf', 'wl', 'wu', 'pos_accuracy', 'vel_accuracy', 'navstat', 'numsats', 'posmode', 'velmode', 'orimode']\n",
    "    # reading oxts\n",
    "    oxts_files = os.listdir(data_path + '\\oxts')\n",
    "    oxts_times_file = data_path + '\\\\oxts\\\\timestamps.txt'\n",
    "    oxts_data_path = data_path + '\\\\oxts\\\\data\\\\'\n",
    "    oxts_data_format = data_path + '\\\\oxts\\\\dataformat.txt'\n",
    "    oxts_times = []\n",
    "    with open(oxts_times_file) as f:\n",
    "        line = f.readline()[0:-4]\n",
    "        oxts_times.append(datetime.strptime(line, '%Y-%m-%d %H:%M:%S.%f'))\n",
    "        while line:\n",
    "            line = f.readline()[0:-4]\n",
    "            if line:\n",
    "                oxts_times.append(datetime.strptime(line, '%Y-%m-%d %H:%M:%S.%f'))\n",
    "                \n",
    "        \n",
    "    oxts_data_points = pd.DataFrame()\n",
    "    data_dict = {}\n",
    "    for data_file in os.listdir(oxts_data_path):\n",
    "        with open(oxts_data_path + '\\\\' + data_file) as f:\n",
    "            data_line = f.readline()\n",
    "            broken_line = data_line.split(' ')\n",
    "            \n",
    "            for key in oxt_data_keys:\n",
    "                if key not in data_dict.keys():\n",
    "                    data_dict[key] = [float(broken_line.pop(0))]\n",
    "                    \n",
    "                else:\n",
    "                    data_dict[key].append(float(broken_line.pop(0)))\n",
    "        \n",
    "    data = pd.DataFrame(index=oxts_times, data=data_dict)\n",
    "    data['velodyne_points'] = read_velodyne_points(data_path  + '\\\\velodyne_points\\\\data')\n",
    "    data = movement_correct_velo(data)\n",
    "    return data\n",
    "\n",
    "def reduce_to_2d(points, min_height=0.3, col_hits=2, res=0.2):\n",
    "    # points = xs, ys, zs\n",
    "    [xs, ys, zs] = points\n",
    "    xs = xs[zs > min_height]\n",
    "    ys = ys[zs > min_height]\n",
    "    zs = zs[zs > min_height]\n",
    "    xs = np.ceil(xs / res) * res\n",
    "    ys = np.ceil(ys / res) * res\n",
    "\n",
    "    points_to_keep = []\n",
    "    while len(xs) > 0 and len(ys) > 0:\n",
    "        x = xs[0]\n",
    "        y = ys[0]\n",
    "        point_bool_index = np.logical_and(xs == x, ys == y)\n",
    "        count = np.sum(point_bool_index)\n",
    "        if [x,y] not in points_to_keep and count > col_hits - 1:\n",
    "            points_to_keep.append([x,y])\n",
    "\n",
    "        xs = xs[np.logical_not(point_bool_index)]\n",
    "        ys = ys[np.logical_not(point_bool_index)]\n",
    "    \n",
    "#     return np.array(points_to_keep)[:,0], np.array(points_to_keep)[:,1]\n",
    "    return points_to_keep\n",
    "\n",
    "\n",
    "def movement_correct_velo(data, min_height=0.3, col_hits=2, res=0.2):\n",
    "    xs = []\n",
    "    ys = []\n",
    "    initial_lla = [data.iloc[0]['lat'], data.iloc[0]['lon'], data.iloc[0]['alt']]\n",
    "    for data_point in data.iterrows():\n",
    "        data_point = data_point[1]\n",
    "#         print(data_point)\n",
    "#         print(data_point.loc['velodyne_points'])\n",
    "        points = reduce_to_2d(data_point['velodyne_points'][:, 0:3].copy().T, min_height=min_height, col_hits=col_hits, res=res)\n",
    "#         [x2d, y2d] = reduce_to_2d(data_point[:, 0:3].copy().T, min_height=0.3, col_hits=2, res=0.2)\n",
    "#         points = np.vstack([np.array((data['velo_xs'][i])), np.array((data['velo_ys'][i]))])\n",
    "#         xs.append(x2d)\n",
    "#         ys.append(y2d)\n",
    "        c, s = np.cos(np.array(data_point['yaw'])), np.sin(np.array(data_point['yaw']))\n",
    "        local_NE_rotation = np.array(((c, -s), (s, c)))\n",
    "        current_lla = [data_point['lat'], data_point['lon'], data_point['alt']]\n",
    "        NED_displacement = navpy.lla2ned(*(current_lla + initial_lla))\n",
    "        NED_points = (local_NE_rotation @ np.array(points).T).T + NED_displacement[0:2]\n",
    "        xs.append(NED_points[:, 0])\n",
    "        ys.append(NED_points[:, 1])\n",
    "        \n",
    "    data['corrected_xs'] = xs\n",
    "    data['corrected_ys'] = ys\n",
    "    \n",
    "    return data\n",
    "    \n",
    "\n",
    "# def initialize_step_grid(data_point, res, distance_func, initial_grid_location=[-1, -1]):\n",
    "# # north is y, east x.\n",
    "#     if -1 in initial_grid_location:\n",
    "#         y_origin = np.ceil(np.abs(np.min(data_point['corrected_ys'])) / res)\n",
    "#         x_origin = np.ceil(np.abs(np.min(data_point['corrected_xs'])) / res)\n",
    "\n",
    "        \n",
    "def initialize_grid(data, res):\n",
    "    global_max_x = 0\n",
    "    global_max_y = 0\n",
    "    global_min_x = 0\n",
    "    global_min_y = 0\n",
    "    for data_point in data.iterrows():\n",
    "        data_point = data_point[1]\n",
    "        max_x = np.max(data_point['corrected_xs']) # meters\n",
    "        max_y = np.max(data_point['corrected_ys'])\n",
    "        \n",
    "        min_x = np.min(data_point['corrected_xs'])\n",
    "#         min_x = np.ceil(min_x / 0.2) if min_x > 0 else np.floor(min_x / 0.2)\n",
    "        \n",
    "        min_y = np.min(data_point['corrected_ys'])\n",
    "#         min_y = np.ceil(min_y / 0.2) if min_y > 0 else np.floor(min_y / 0.2)\n",
    "        \n",
    "        global_max_x = max_x if max_x > global_max_x else global_max_x\n",
    "        global_max_y = max_y if max_y < global_max_y else global_max_y\n",
    "        global_min_x = min_x if min_x > global_min_x else global_min_x\n",
    "        global_min_y = min_y if min_y < global_min_y else global_min_y\n",
    "        \n",
    "    NED_bounds = [global_min_y, global_min_x, global_max_y, global_max_x]\n",
    "    hight = int(np.ceil((global_max_y - global_min_y) / 0.2))\n",
    "    width = int(np.ceil((global_max_x - global_min_x) / 0.2))\n",
    "    print(hight)\n",
    "    print(width)\n",
    "    grid = np.zeros((hight, width))\n",
    "    # min must be less then zero\n",
    "    return grid, NED_bounds\n",
    "\n",
    "\n",
    "def occupancy_map(data, res=0.2):\n",
    "    grid, [min_y, min_x, max_y, max_x] = initialize_grid(data, res)\n",
    "    initial_location = [-np.round(min_y / 0.2), -np.round(min_x / 0.2)]\n",
    "    for data_point in data.iterrows():\n",
    "        data_point = data_point[1]\n",
    "        thetas = np.arctan2(data_point['corrected_ys'], data_point['corrected_xs'])\n",
    "        ranges = np.sqrt(data_point['corrected_ys'] ** 2 + data_point['corrected_xs'] ** 2)\n",
    "        \n",
    "    return grid\n",
    "#         local_max_x = np.max(data_point['corrected_xs']) # meters\n",
    "#         local_max_y = np.max(data_point['corrected_ys'])\n",
    "#         local_min_x = np.min(data_point['corrected_xs'])\n",
    "#         local_min_y = np.min(data_point['corrected_ys'])\n",
    "#         local_grid = [np.round(local_min_y / 0.2), np.round(local_max_y / 0.2), np.round(local_min_x / 0.2), np.round(local_max_x / 0.2)]\n",
    "    \n",
    "# occupancy_map(data)\n",
    "\n",
    "# def reverse_sensor_model(grid, measurement):\n",
    "#     pass"
   ]
  },
  {
   "cell_type": "code",
   "execution_count": 113,
   "metadata": {},
   "outputs": [
    {
     "name": "stdout",
     "output_type": "stream",
     "text": [
      "476\n",
      "581\n"
     ]
    }
   ],
   "source": [
    "grid = occupancy_map(data)"
   ]
  },
  {
   "cell_type": "code",
   "execution_count": 125,
   "metadata": {},
   "outputs": [],
   "source": [
    "cell_x, cell_y = np.meshgrid(np.array(range(grid.shape[0])), np.array(range(grid.shape[1])))\n",
    "cell_theta = np.arctan2(cell_y, cell_x)\n",
    "cell_ranges = np.sqrt(cell_y ** 2 + cell_x ** 2)"
   ]
  },
  {
   "cell_type": "code",
   "execution_count": 89,
   "metadata": {},
   "outputs": [],
   "source": [
    "data = initialize(data_path)\n",
    "# next(data.iterrows())[1]['velodyne_points']\n",
    "# data[0]"
   ]
  },
  {
   "cell_type": "code",
   "execution_count": 92,
   "metadata": {},
   "outputs": [
    {
     "name": "stdout",
     "output_type": "stream",
     "text": [
      "476.0\n",
      "581.0\n"
     ]
    },
    {
     "ename": "TypeError",
     "evalue": "'numpy.float64' object cannot be interpreted as an integer",
     "output_type": "error",
     "traceback": [
      "\u001b[1;31m---------------------------------------------------------------------------\u001b[0m",
      "\u001b[1;31mTypeError\u001b[0m                                 Traceback (most recent call last)",
      "\u001b[1;32m<ipython-input-92-a5d848916f24>\u001b[0m in \u001b[0;36m<module>\u001b[1;34m\u001b[0m\n\u001b[1;32m----> 1\u001b[1;33m \u001b[0moccupancy_map\u001b[0m\u001b[1;33m(\u001b[0m\u001b[0mdata\u001b[0m\u001b[1;33m)\u001b[0m\u001b[1;33m\u001b[0m\u001b[1;33m\u001b[0m\u001b[0m\n\u001b[0m",
      "\u001b[1;32m<ipython-input-91-26de47cfe61e>\u001b[0m in \u001b[0;36moccupancy_map\u001b[1;34m(data, res)\u001b[0m\n\u001b[0;32m    140\u001b[0m \u001b[1;33m\u001b[0m\u001b[0m\n\u001b[0;32m    141\u001b[0m \u001b[1;32mdef\u001b[0m \u001b[0moccupancy_map\u001b[0m\u001b[1;33m(\u001b[0m\u001b[0mdata\u001b[0m\u001b[1;33m,\u001b[0m \u001b[0mres\u001b[0m\u001b[1;33m=\u001b[0m\u001b[1;36m0.2\u001b[0m\u001b[1;33m)\u001b[0m\u001b[1;33m:\u001b[0m\u001b[1;33m\u001b[0m\u001b[1;33m\u001b[0m\u001b[0m\n\u001b[1;32m--> 142\u001b[1;33m     \u001b[0mgrid\u001b[0m\u001b[1;33m,\u001b[0m \u001b[1;33m[\u001b[0m\u001b[0mmin_y\u001b[0m\u001b[1;33m,\u001b[0m \u001b[0mmin_x\u001b[0m\u001b[1;33m,\u001b[0m \u001b[0mmax_y\u001b[0m\u001b[1;33m,\u001b[0m \u001b[0mmax_x\u001b[0m\u001b[1;33m]\u001b[0m \u001b[1;33m=\u001b[0m \u001b[0minitialize_grid\u001b[0m\u001b[1;33m(\u001b[0m\u001b[0mdata\u001b[0m\u001b[1;33m,\u001b[0m \u001b[0mres\u001b[0m\u001b[1;33m)\u001b[0m\u001b[1;33m\u001b[0m\u001b[1;33m\u001b[0m\u001b[0m\n\u001b[0m\u001b[0;32m    143\u001b[0m     \u001b[0minitial_location\u001b[0m \u001b[1;33m=\u001b[0m \u001b[1;33m[\u001b[0m\u001b[1;33m-\u001b[0m\u001b[0mnp\u001b[0m\u001b[1;33m.\u001b[0m\u001b[0mround\u001b[0m\u001b[1;33m(\u001b[0m\u001b[0mmin_y\u001b[0m \u001b[1;33m/\u001b[0m \u001b[1;36m0.2\u001b[0m\u001b[1;33m)\u001b[0m\u001b[1;33m,\u001b[0m \u001b[1;33m-\u001b[0m\u001b[0mnp\u001b[0m\u001b[1;33m.\u001b[0m\u001b[0mround\u001b[0m\u001b[1;33m(\u001b[0m\u001b[0mmin_x\u001b[0m \u001b[1;33m/\u001b[0m \u001b[1;36m0.2\u001b[0m\u001b[1;33m)\u001b[0m\u001b[1;33m]\u001b[0m\u001b[1;33m\u001b[0m\u001b[1;33m\u001b[0m\u001b[0m\n\u001b[0;32m    144\u001b[0m     \u001b[1;32mfor\u001b[0m \u001b[0mdata_point\u001b[0m \u001b[1;32min\u001b[0m \u001b[0mdata\u001b[0m\u001b[1;33m:\u001b[0m\u001b[1;33m\u001b[0m\u001b[1;33m\u001b[0m\u001b[0m\n",
      "\u001b[1;32m<ipython-input-91-26de47cfe61e>\u001b[0m in \u001b[0;36minitialize_grid\u001b[1;34m(data, res)\u001b[0m\n\u001b[0;32m    134\u001b[0m     \u001b[0mprint\u001b[0m\u001b[1;33m(\u001b[0m\u001b[0mhight\u001b[0m\u001b[1;33m)\u001b[0m\u001b[1;33m\u001b[0m\u001b[1;33m\u001b[0m\u001b[0m\n\u001b[0;32m    135\u001b[0m     \u001b[0mprint\u001b[0m\u001b[1;33m(\u001b[0m\u001b[0mwidth\u001b[0m\u001b[1;33m)\u001b[0m\u001b[1;33m\u001b[0m\u001b[1;33m\u001b[0m\u001b[0m\n\u001b[1;32m--> 136\u001b[1;33m     \u001b[0mgrid\u001b[0m \u001b[1;33m=\u001b[0m \u001b[0mnp\u001b[0m\u001b[1;33m.\u001b[0m\u001b[0mzeros\u001b[0m\u001b[1;33m(\u001b[0m\u001b[1;33m(\u001b[0m\u001b[0mhight\u001b[0m\u001b[1;33m,\u001b[0m \u001b[0mwidth\u001b[0m\u001b[1;33m)\u001b[0m\u001b[1;33m)\u001b[0m\u001b[1;33m\u001b[0m\u001b[1;33m\u001b[0m\u001b[0m\n\u001b[0m\u001b[0;32m    137\u001b[0m     \u001b[1;31m# min must be less then zero\u001b[0m\u001b[1;33m\u001b[0m\u001b[1;33m\u001b[0m\u001b[1;33m\u001b[0m\u001b[0m\n\u001b[0;32m    138\u001b[0m     \u001b[1;32mreturn\u001b[0m \u001b[0mgrid\u001b[0m\u001b[1;33m,\u001b[0m \u001b[0mNED_bounds\u001b[0m\u001b[1;33m\u001b[0m\u001b[1;33m\u001b[0m\u001b[0m\n",
      "\u001b[1;31mTypeError\u001b[0m: 'numpy.float64' object cannot be interpreted as an integer"
     ]
    }
   ],
   "source": []
  },
  {
   "cell_type": "code",
   "execution_count": 7,
   "metadata": {},
   "outputs": [
    {
     "ename": "NameError",
     "evalue": "name 'data' is not defined",
     "output_type": "error",
     "traceback": [
      "\u001b[1;31m---------------------------------------------------------------------------\u001b[0m",
      "\u001b[1;31mNameError\u001b[0m                                 Traceback (most recent call last)",
      "\u001b[1;32m<ipython-input-7-e963edf637c7>\u001b[0m in \u001b[0;36m<module>\u001b[1;34m\u001b[0m\n\u001b[1;32m----> 1\u001b[1;33m \u001b[0mpd\u001b[0m\u001b[1;33m.\u001b[0m\u001b[0mset_option\u001b[0m\u001b[1;33m(\u001b[0m\u001b[1;34m'display.max_rows'\u001b[0m\u001b[1;33m,\u001b[0m \u001b[0mdata\u001b[0m\u001b[1;33m.\u001b[0m\u001b[0mshape\u001b[0m\u001b[1;33m[\u001b[0m\u001b[1;36m0\u001b[0m\u001b[1;33m]\u001b[0m\u001b[1;33m+\u001b[0m\u001b[1;36m1\u001b[0m\u001b[1;33m)\u001b[0m\u001b[1;33m\u001b[0m\u001b[1;33m\u001b[0m\u001b[0m\n\u001b[0m\u001b[0;32m      2\u001b[0m \u001b[0mprint\u001b[0m\u001b[1;33m(\u001b[0m\u001b[0mdata\u001b[0m\u001b[1;33m)\u001b[0m\u001b[1;33m\u001b[0m\u001b[1;33m\u001b[0m\u001b[0m\n",
      "\u001b[1;31mNameError\u001b[0m: name 'data' is not defined"
     ]
    }
   ],
   "source": [
    "pd.set_option('display.max_rows', data.shape[0]+1)\n",
    "print(data)"
   ]
  },
  {
   "cell_type": "code",
   "execution_count": 325,
   "metadata": {},
   "outputs": [
    {
     "name": "stdout",
     "output_type": "stream",
     "text": [
      "49.009947690751\n",
      "8.4234877923254\n"
     ]
    }
   ],
   "source": [
    "print(data.iloc[0]['lat'])\n",
    "print(data.iloc[0]['lon'])"
   ]
  },
  {
   "cell_type": "code",
   "execution_count": 17,
   "metadata": {},
   "outputs": [
    {
     "name": "stdout",
     "output_type": "stream",
     "text": [
      "[112.72550667 -16.03461898   0.72956336]\n"
     ]
    }
   ],
   "source": [
    "initial_coords = [data.iloc[0]['lat'], data.iloc[0]['lon'], data.iloc[0]['alt']]\n",
    "current_coords = [data.iloc[-1]['lat'], data.iloc[-1]['lon'], data.iloc[-1]['alt']]\n",
    "diff = navpy.lla2ned(*(current_coords + initial_coords))\n",
    "print(diff)"
   ]
  },
  {
   "cell_type": "code",
   "execution_count": 330,
   "metadata": {},
   "outputs": [],
   "source": [
    "c, s = np.cos(np.array(data['yaw'])), np.sin(np.array(data['yaw']))\n",
    "local_NE_rotation = np.array(((c, -s), (s, c)))"
   ]
  },
  {
   "cell_type": "code",
   "execution_count": 15,
   "metadata": {},
   "outputs": [
    {
     "name": "stdout",
     "output_type": "stream",
     "text": [
      "[112.72550667 -16.03461898   0.72956336]\n"
     ]
    }
   ],
   "source": [
    "print(diff)"
   ]
  },
  {
   "cell_type": "code",
   "execution_count": null,
   "metadata": {
    "scrolled": false
   },
   "outputs": [],
   "source": [
    "for i in range(200):\n",
    "    reoriented_points = local_NE_rotation[:,:,i] @ np.vstack([np.array((data['velo_xs'][i])), np.array((data['velo_ys'][i]))])\n",
    "    fig = px.scatter(x=reoriented_points[0], y=reoriented_points[1])\n",
    "    fig.update_layout(\n",
    "        width=1400,\n",
    "        height=2000\n",
    "    )\n",
    "    fig.show()"
   ]
  },
  {
   "cell_type": "code",
   "execution_count": 352,
   "metadata": {},
   "outputs": [
    {
     "data": {
      "text/plain": [
       "-0.14129692309124703"
      ]
     },
     "execution_count": 352,
     "metadata": {},
     "output_type": "execute_result"
    }
   ],
   "source": [
    "np.arctan(diff[1] / diff[0])"
   ]
  },
  {
   "cell_type": "code",
   "execution_count": 314,
   "metadata": {},
   "outputs": [
    {
     "data": {
      "text/plain": [
       "49.009947690751"
      ]
     },
     "execution_count": 314,
     "metadata": {},
     "output_type": "execute_result"
    }
   ],
   "source": [
    "float(data.iloc[0]['lat'])"
   ]
  },
  {
   "cell_type": "code",
   "execution_count": null,
   "metadata": {},
   "outputs": [],
   "source": []
  }
 ],
 "metadata": {
  "kernelspec": {
   "display_name": "Python 3",
   "language": "python",
   "name": "python3"
  },
  "language_info": {
   "codemirror_mode": {
    "name": "ipython",
    "version": 3
   },
   "file_extension": ".py",
   "mimetype": "text/x-python",
   "name": "python",
   "nbconvert_exporter": "python",
   "pygments_lexer": "ipython3",
   "version": "3.8.5"
  }
 },
 "nbformat": 4,
 "nbformat_minor": 2
}
